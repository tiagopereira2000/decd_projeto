{
 "cells": [
  {
   "cell_type": "code",
   "execution_count": 262,
   "metadata": {
    "collapsed": true
   },
   "outputs": [
    {
     "data": {
      "text/plain": "         id  gender   age  hypertension  heart_disease ever_married   \n0     68059    Male  35.0             0              0          Yes  \\\n1     18437    Male  26.0             0              0           No   \n2     23427  Female  81.0             0              0          Yes   \n3     59309    Male  18.0             0              0           No   \n4     72701    Male   2.0             0              0           No   \n...     ...     ...   ...           ...            ...          ...   \n4495  61178    Male  39.0             0              0          Yes   \n4496  56575  Female  51.0             1              0          Yes   \n4497  25636    Male  40.0             0              0          Yes   \n4498  41827    Male  58.0             0              0          Yes   \n4499  53266  Female  33.0             0              0          Yes   \n\n          work_type Residence_type  avg_glucose_level   bmi   smoking_status   \n0          Govt_job          Rural             103.08  41.5           smokes  \\\n1           Private          Urban              85.92  35.6           smokes   \n2           Private          Rural              91.82  36.9          Unknown   \n3     Self-employed          Urban              74.00  23.7          Unknown   \n4          children          Rural             112.66  14.2          Unknown   \n...             ...            ...                ...   ...              ...   \n4495        Private          Urban             164.67  33.8          Unknown   \n4496       Govt_job          Urban              69.94  33.3           smokes   \n4497        Private          Rural             201.96  30.1          Unknown   \n4498        Private          Rural             135.89  23.1  formerly smoked   \n4499        Private          Urban              79.91  33.5     never smoked   \n\n      stroke  \n0          0  \n1          0  \n2          0  \n3          0  \n4          0  \n...      ...  \n4495       0  \n4496       0  \n4497       0  \n4498       0  \n4499       0  \n\n[4500 rows x 12 columns]",
      "text/html": "<div>\n<style scoped>\n    .dataframe tbody tr th:only-of-type {\n        vertical-align: middle;\n    }\n\n    .dataframe tbody tr th {\n        vertical-align: top;\n    }\n\n    .dataframe thead th {\n        text-align: right;\n    }\n</style>\n<table border=\"1\" class=\"dataframe\">\n  <thead>\n    <tr style=\"text-align: right;\">\n      <th></th>\n      <th>id</th>\n      <th>gender</th>\n      <th>age</th>\n      <th>hypertension</th>\n      <th>heart_disease</th>\n      <th>ever_married</th>\n      <th>work_type</th>\n      <th>Residence_type</th>\n      <th>avg_glucose_level</th>\n      <th>bmi</th>\n      <th>smoking_status</th>\n      <th>stroke</th>\n    </tr>\n  </thead>\n  <tbody>\n    <tr>\n      <th>0</th>\n      <td>68059</td>\n      <td>Male</td>\n      <td>35.0</td>\n      <td>0</td>\n      <td>0</td>\n      <td>Yes</td>\n      <td>Govt_job</td>\n      <td>Rural</td>\n      <td>103.08</td>\n      <td>41.5</td>\n      <td>smokes</td>\n      <td>0</td>\n    </tr>\n    <tr>\n      <th>1</th>\n      <td>18437</td>\n      <td>Male</td>\n      <td>26.0</td>\n      <td>0</td>\n      <td>0</td>\n      <td>No</td>\n      <td>Private</td>\n      <td>Urban</td>\n      <td>85.92</td>\n      <td>35.6</td>\n      <td>smokes</td>\n      <td>0</td>\n    </tr>\n    <tr>\n      <th>2</th>\n      <td>23427</td>\n      <td>Female</td>\n      <td>81.0</td>\n      <td>0</td>\n      <td>0</td>\n      <td>Yes</td>\n      <td>Private</td>\n      <td>Rural</td>\n      <td>91.82</td>\n      <td>36.9</td>\n      <td>Unknown</td>\n      <td>0</td>\n    </tr>\n    <tr>\n      <th>3</th>\n      <td>59309</td>\n      <td>Male</td>\n      <td>18.0</td>\n      <td>0</td>\n      <td>0</td>\n      <td>No</td>\n      <td>Self-employed</td>\n      <td>Urban</td>\n      <td>74.00</td>\n      <td>23.7</td>\n      <td>Unknown</td>\n      <td>0</td>\n    </tr>\n    <tr>\n      <th>4</th>\n      <td>72701</td>\n      <td>Male</td>\n      <td>2.0</td>\n      <td>0</td>\n      <td>0</td>\n      <td>No</td>\n      <td>children</td>\n      <td>Rural</td>\n      <td>112.66</td>\n      <td>14.2</td>\n      <td>Unknown</td>\n      <td>0</td>\n    </tr>\n    <tr>\n      <th>...</th>\n      <td>...</td>\n      <td>...</td>\n      <td>...</td>\n      <td>...</td>\n      <td>...</td>\n      <td>...</td>\n      <td>...</td>\n      <td>...</td>\n      <td>...</td>\n      <td>...</td>\n      <td>...</td>\n      <td>...</td>\n    </tr>\n    <tr>\n      <th>4495</th>\n      <td>61178</td>\n      <td>Male</td>\n      <td>39.0</td>\n      <td>0</td>\n      <td>0</td>\n      <td>Yes</td>\n      <td>Private</td>\n      <td>Urban</td>\n      <td>164.67</td>\n      <td>33.8</td>\n      <td>Unknown</td>\n      <td>0</td>\n    </tr>\n    <tr>\n      <th>4496</th>\n      <td>56575</td>\n      <td>Female</td>\n      <td>51.0</td>\n      <td>1</td>\n      <td>0</td>\n      <td>Yes</td>\n      <td>Govt_job</td>\n      <td>Urban</td>\n      <td>69.94</td>\n      <td>33.3</td>\n      <td>smokes</td>\n      <td>0</td>\n    </tr>\n    <tr>\n      <th>4497</th>\n      <td>25636</td>\n      <td>Male</td>\n      <td>40.0</td>\n      <td>0</td>\n      <td>0</td>\n      <td>Yes</td>\n      <td>Private</td>\n      <td>Rural</td>\n      <td>201.96</td>\n      <td>30.1</td>\n      <td>Unknown</td>\n      <td>0</td>\n    </tr>\n    <tr>\n      <th>4498</th>\n      <td>41827</td>\n      <td>Male</td>\n      <td>58.0</td>\n      <td>0</td>\n      <td>0</td>\n      <td>Yes</td>\n      <td>Private</td>\n      <td>Rural</td>\n      <td>135.89</td>\n      <td>23.1</td>\n      <td>formerly smoked</td>\n      <td>0</td>\n    </tr>\n    <tr>\n      <th>4499</th>\n      <td>53266</td>\n      <td>Female</td>\n      <td>33.0</td>\n      <td>0</td>\n      <td>0</td>\n      <td>Yes</td>\n      <td>Private</td>\n      <td>Urban</td>\n      <td>79.91</td>\n      <td>33.5</td>\n      <td>never smoked</td>\n      <td>0</td>\n    </tr>\n  </tbody>\n</table>\n<p>4500 rows × 12 columns</p>\n</div>"
     },
     "execution_count": 262,
     "metadata": {},
     "output_type": "execute_result"
    }
   ],
   "source": [
    "import pandas as pd\n",
    "from sklearn import svm\n",
    "from imblearn.over_sampling import SMOTE\n",
    "from sklearn.preprocessing import LabelEncoder\n",
    "from sklearn.preprocessing import OneHotEncoder\n",
    "from sklearn.model_selection import cross_val_score\n",
    "from sklearn.linear_model import LogisticRegression\n",
    "from sklearn import tree\n",
    "from sklearn.naive_bayes import GaussianNB\n",
    "from sklearn.metrics import classification_report\n",
    "\n",
    "ohe = OneHotEncoder(sparse=False)\n",
    "# Crie um objeto LabelEncoder\n",
    "le = LabelEncoder()\n",
    "# carregar o conjunto de treino\n",
    "train_data = pd.read_csv('healthcare-dataset-stroke-train.csv')\n",
    "\n",
    "# carregar o conjunto de teste\n",
    "test_data = pd.read_csv('healthcare-dataset-stroke-test.csv')\n",
    "#Aí e para carregar os ficheiros\n",
    "\n",
    "train_data"
   ]
  },
  {
   "cell_type": "code",
   "execution_count": 263,
   "outputs": [
    {
     "data": {
      "text/plain": "<bound method DataFrame.info of          id  gender   age  hypertension  heart_disease ever_married   \n0     68059    Male  35.0             0              0          Yes  \\\n1     18437    Male  26.0             0              0           No   \n2     23427  Female  81.0             0              0          Yes   \n3     59309    Male  18.0             0              0           No   \n4     72701    Male   2.0             0              0           No   \n...     ...     ...   ...           ...            ...          ...   \n4495  61178    Male  39.0             0              0          Yes   \n4496  56575  Female  51.0             1              0          Yes   \n4497  25636    Male  40.0             0              0          Yes   \n4498  41827    Male  58.0             0              0          Yes   \n4499  53266  Female  33.0             0              0          Yes   \n\n          work_type Residence_type  avg_glucose_level   bmi   smoking_status   \n0          Govt_job          Rural             103.08  41.5           smokes  \\\n1           Private          Urban              85.92  35.6           smokes   \n2           Private          Rural              91.82  36.9          Unknown   \n3     Self-employed          Urban              74.00  23.7          Unknown   \n4          children          Rural             112.66  14.2          Unknown   \n...             ...            ...                ...   ...              ...   \n4495        Private          Urban             164.67  33.8          Unknown   \n4496       Govt_job          Urban              69.94  33.3           smokes   \n4497        Private          Rural             201.96  30.1          Unknown   \n4498        Private          Rural             135.89  23.1  formerly smoked   \n4499        Private          Urban              79.91  33.5     never smoked   \n\n      stroke  \n0          0  \n1          0  \n2          0  \n3          0  \n4          0  \n...      ...  \n4495       0  \n4496       0  \n4497       0  \n4498       0  \n4499       0  \n\n[4500 rows x 12 columns]>"
     },
     "execution_count": 263,
     "metadata": {},
     "output_type": "execute_result"
    }
   ],
   "source": [
    "train_data.info"
   ],
   "metadata": {
    "collapsed": false
   }
  },
  {
   "cell_type": "code",
   "execution_count": 264,
   "outputs": [],
   "source": [
    "train_data = train_data.loc[train_data['smoking_status'] != 'Unknown']\n",
    "train_data = train_data.loc[train_data['bmi'] != 'NaN']\n",
    "train_data = train_data.loc[train_data['hypertension'] != 'Unknown']\n",
    "train_data = train_data.loc[train_data['avg_glucose_level'] != 'NaN']\n",
    "train_data = train_data.loc[train_data['work_type'] != 'Unknown']\n",
    "train_data = train_data.loc[train_data['Residence_type'] != 'Unknown']\n",
    "train_data = train_data.loc[train_data['avg_glucose_level'] != 'NaN']\n",
    "train_data = train_data.loc[train_data['ever_married'] != 'Unknown']\n",
    "train_data = train_data.loc[train_data['gender'] != 'Unknown']\n",
    "train_data.dropna(inplace=True)"
   ],
   "metadata": {
    "collapsed": false
   }
  },
  {
   "cell_type": "code",
   "execution_count": 265,
   "outputs": [
    {
     "data": {
      "text/plain": "id                     int64\ngender                object\nage                  float64\nhypertension           int64\nheart_disease          int64\never_married          object\nwork_type             object\nResidence_type        object\navg_glucose_level    float64\nbmi                  float64\nsmoking_status        object\nstroke                 int64\ndtype: object"
     },
     "execution_count": 265,
     "metadata": {},
     "output_type": "execute_result"
    }
   ],
   "source": [
    "train_data.dtypes"
   ],
   "metadata": {
    "collapsed": false
   }
  },
  {
   "cell_type": "code",
   "execution_count": 266,
   "outputs": [],
   "source": [
    "train_data.gender = train_data.gender.astype('category')\n",
    "train_data.ever_married = train_data.ever_married.astype('category')\n",
    "train_data.work_type = train_data.work_type.astype('category')\n",
    "train_data.Residence_type = train_data.Residence_type.astype('category')\n",
    "train_data.smoking_status = train_data.smoking_status.astype('category')\n",
    "\n",
    "cat_columns = train_data.select_dtypes(['category']).columns\n",
    "train_data[cat_columns] = train_data[cat_columns].apply(lambda x: pd.factorize(x)[0])"
   ],
   "metadata": {
    "collapsed": false
   }
  },
  {
   "cell_type": "code",
   "execution_count": 267,
   "outputs": [
    {
     "data": {
      "text/plain": "         id  gender   age  hypertension  heart_disease  ever_married   \n0     68059       0  35.0             0              0             0  \\\n1     18437       0  26.0             0              0             1   \n5      4083       1  30.0             0              0             1   \n6     34188       1  47.0             0              0             0   \n7     67112       1  56.0             0              0             0   \n...     ...     ...   ...           ...            ...           ...   \n4493   5068       1  28.0             0              0             1   \n4494  56594       1  70.0             0              0             0   \n4496  56575       1  51.0             1              0             0   \n4498  41827       0  58.0             0              0             0   \n4499  53266       1  33.0             0              0             0   \n\n      work_type  Residence_type  avg_glucose_level   bmi  smoking_status   \n0             0               0             103.08  41.5               0  \\\n1             1               1              85.92  35.6               0   \n5             1               0              73.69  17.3               1   \n6             0               1              95.07  38.8               2   \n7             1               0              77.66  40.8               1   \n...         ...             ...                ...   ...             ...   \n4493          1               1              76.81  28.3               0   \n4494          1               1              77.77  33.8               0   \n4496          0               1              69.94  33.3               0   \n4498          1               0             135.89  23.1               2   \n4499          1               1              79.91  33.5               1   \n\n      stroke  \n0          0  \n1          0  \n5          0  \n6          0  \n7          0  \n...      ...  \n4493       0  \n4494       0  \n4496       0  \n4498       0  \n4499       0  \n\n[3010 rows x 12 columns]",
      "text/html": "<div>\n<style scoped>\n    .dataframe tbody tr th:only-of-type {\n        vertical-align: middle;\n    }\n\n    .dataframe tbody tr th {\n        vertical-align: top;\n    }\n\n    .dataframe thead th {\n        text-align: right;\n    }\n</style>\n<table border=\"1\" class=\"dataframe\">\n  <thead>\n    <tr style=\"text-align: right;\">\n      <th></th>\n      <th>id</th>\n      <th>gender</th>\n      <th>age</th>\n      <th>hypertension</th>\n      <th>heart_disease</th>\n      <th>ever_married</th>\n      <th>work_type</th>\n      <th>Residence_type</th>\n      <th>avg_glucose_level</th>\n      <th>bmi</th>\n      <th>smoking_status</th>\n      <th>stroke</th>\n    </tr>\n  </thead>\n  <tbody>\n    <tr>\n      <th>0</th>\n      <td>68059</td>\n      <td>0</td>\n      <td>35.0</td>\n      <td>0</td>\n      <td>0</td>\n      <td>0</td>\n      <td>0</td>\n      <td>0</td>\n      <td>103.08</td>\n      <td>41.5</td>\n      <td>0</td>\n      <td>0</td>\n    </tr>\n    <tr>\n      <th>1</th>\n      <td>18437</td>\n      <td>0</td>\n      <td>26.0</td>\n      <td>0</td>\n      <td>0</td>\n      <td>1</td>\n      <td>1</td>\n      <td>1</td>\n      <td>85.92</td>\n      <td>35.6</td>\n      <td>0</td>\n      <td>0</td>\n    </tr>\n    <tr>\n      <th>5</th>\n      <td>4083</td>\n      <td>1</td>\n      <td>30.0</td>\n      <td>0</td>\n      <td>0</td>\n      <td>1</td>\n      <td>1</td>\n      <td>0</td>\n      <td>73.69</td>\n      <td>17.3</td>\n      <td>1</td>\n      <td>0</td>\n    </tr>\n    <tr>\n      <th>6</th>\n      <td>34188</td>\n      <td>1</td>\n      <td>47.0</td>\n      <td>0</td>\n      <td>0</td>\n      <td>0</td>\n      <td>0</td>\n      <td>1</td>\n      <td>95.07</td>\n      <td>38.8</td>\n      <td>2</td>\n      <td>0</td>\n    </tr>\n    <tr>\n      <th>7</th>\n      <td>67112</td>\n      <td>1</td>\n      <td>56.0</td>\n      <td>0</td>\n      <td>0</td>\n      <td>0</td>\n      <td>1</td>\n      <td>0</td>\n      <td>77.66</td>\n      <td>40.8</td>\n      <td>1</td>\n      <td>0</td>\n    </tr>\n    <tr>\n      <th>...</th>\n      <td>...</td>\n      <td>...</td>\n      <td>...</td>\n      <td>...</td>\n      <td>...</td>\n      <td>...</td>\n      <td>...</td>\n      <td>...</td>\n      <td>...</td>\n      <td>...</td>\n      <td>...</td>\n      <td>...</td>\n    </tr>\n    <tr>\n      <th>4493</th>\n      <td>5068</td>\n      <td>1</td>\n      <td>28.0</td>\n      <td>0</td>\n      <td>0</td>\n      <td>1</td>\n      <td>1</td>\n      <td>1</td>\n      <td>76.81</td>\n      <td>28.3</td>\n      <td>0</td>\n      <td>0</td>\n    </tr>\n    <tr>\n      <th>4494</th>\n      <td>56594</td>\n      <td>1</td>\n      <td>70.0</td>\n      <td>0</td>\n      <td>0</td>\n      <td>0</td>\n      <td>1</td>\n      <td>1</td>\n      <td>77.77</td>\n      <td>33.8</td>\n      <td>0</td>\n      <td>0</td>\n    </tr>\n    <tr>\n      <th>4496</th>\n      <td>56575</td>\n      <td>1</td>\n      <td>51.0</td>\n      <td>1</td>\n      <td>0</td>\n      <td>0</td>\n      <td>0</td>\n      <td>1</td>\n      <td>69.94</td>\n      <td>33.3</td>\n      <td>0</td>\n      <td>0</td>\n    </tr>\n    <tr>\n      <th>4498</th>\n      <td>41827</td>\n      <td>0</td>\n      <td>58.0</td>\n      <td>0</td>\n      <td>0</td>\n      <td>0</td>\n      <td>1</td>\n      <td>0</td>\n      <td>135.89</td>\n      <td>23.1</td>\n      <td>2</td>\n      <td>0</td>\n    </tr>\n    <tr>\n      <th>4499</th>\n      <td>53266</td>\n      <td>1</td>\n      <td>33.0</td>\n      <td>0</td>\n      <td>0</td>\n      <td>0</td>\n      <td>1</td>\n      <td>1</td>\n      <td>79.91</td>\n      <td>33.5</td>\n      <td>1</td>\n      <td>0</td>\n    </tr>\n  </tbody>\n</table>\n<p>3010 rows × 12 columns</p>\n</div>"
     },
     "execution_count": 267,
     "metadata": {},
     "output_type": "execute_result"
    }
   ],
   "source": [
    "train_data"
   ],
   "metadata": {
    "collapsed": false
   }
  },
  {
   "cell_type": "code",
   "execution_count": 268,
   "outputs": [],
   "source": [
    "X = train_data.drop(columns=[\"stroke\"])\n",
    "y = train_data['stroke']"
   ],
   "metadata": {
    "collapsed": false
   }
  },
  {
   "cell_type": "code",
   "execution_count": 269,
   "outputs": [],
   "source": [
    "from sklearn.model_selection import train_test_split\n",
    "\n",
    "X_train, X_test, y_train, y_test = train_test_split(X, y, test_size=0.25, random_state=42)"
   ],
   "metadata": {
    "collapsed": false
   }
  },
  {
   "cell_type": "code",
   "execution_count": 270,
   "outputs": [
    {
     "name": "stdout",
     "output_type": "stream",
     "text": [
      "[0.94911504 0.94911504 0.95121951 0.95121951 0.94900222]\n"
     ]
    }
   ],
   "source": [
    "svm_clf = svm.SVC()\n",
    "scores = cross_val_score(svm_clf, X_train, y_train, cv=5)\n",
    "print(scores)"
   ],
   "metadata": {
    "collapsed": false
   }
  },
  {
   "cell_type": "code",
   "execution_count": 271,
   "outputs": [
    {
     "name": "stdout",
     "output_type": "stream",
     "text": [
      "[0.94469027 0.94911504 0.95121951 0.95121951 0.94900222]\n"
     ]
    }
   ],
   "source": [
    "lr_clf = LogisticRegression(random_state=0, max_iter=5000)\n",
    "scores = cross_val_score(lr_clf, X_train, y_train, cv=5)\n",
    "print(scores)"
   ],
   "metadata": {
    "collapsed": false
   }
  },
  {
   "cell_type": "code",
   "execution_count": 272,
   "outputs": [
    {
     "name": "stdout",
     "output_type": "stream",
     "text": [
      "[0.9159292  0.8960177  0.89356984 0.90909091 0.89135255]\n"
     ]
    }
   ],
   "source": [
    "tree_clf = tree.DecisionTreeClassifier()\n",
    "scores = cross_val_score(tree_clf, X_train, y_train, cv=5)\n",
    "print(scores)"
   ],
   "metadata": {
    "collapsed": false
   }
  },
  {
   "cell_type": "code",
   "execution_count": 273,
   "outputs": [
    {
     "name": "stdout",
     "output_type": "stream",
     "text": [
      "[0.89823009 0.94469027 0.94456763 0.92682927 0.92682927]\n"
     ]
    }
   ],
   "source": [
    "gnb_clf = GaussianNB()\n",
    "scores = cross_val_score(gnb_clf, X_train, y_train, cv=5)\n",
    "print(scores)"
   ],
   "metadata": {
    "collapsed": false
   }
  },
  {
   "cell_type": "code",
   "execution_count": 274,
   "outputs": [
    {
     "name": "stdout",
     "output_type": "stream",
     "text": [
      "              precision    recall  f1-score   support\n",
      "\n",
      "    Saudável       0.95      0.97      0.96       707\n",
      "Não Saudável       0.24      0.15      0.19        46\n",
      "\n",
      "    accuracy                           0.92       753\n",
      "   macro avg       0.59      0.56      0.57       753\n",
      "weighted avg       0.90      0.92      0.91       753\n",
      "\n"
     ]
    }
   ],
   "source": [
    "gnb_clf.fit(X_train, y_train)\n",
    "y_pred = gnb_clf.predict(X_test)\n",
    "print(classification_report(y_test, y_pred, target_names=['Saudável', 'Não Saudável']))"
   ],
   "metadata": {
    "collapsed": false
   }
  },
  {
   "cell_type": "code",
   "execution_count": 275,
   "outputs": [
    {
     "name": "stdout",
     "output_type": "stream",
     "text": [
      "              precision    recall  f1-score   support\n",
      "\n",
      "    Saudável       0.94      0.94      0.94       707\n",
      "Não Saudável       0.13      0.13      0.13        46\n",
      "\n",
      "    accuracy                           0.90       753\n",
      "   macro avg       0.54      0.54      0.54       753\n",
      "weighted avg       0.89      0.90      0.89       753\n",
      "\n"
     ]
    }
   ],
   "source": [
    "tree_clf = tree.DecisionTreeClassifier().fit(X_train, y_train)\n",
    "y_pred = tree_clf.predict(X_test)\n",
    "print(classification_report(y_test, y_pred, target_names=['Saudável', 'Não Saudável']))"
   ],
   "metadata": {
    "collapsed": false
   }
  },
  {
   "cell_type": "code",
   "execution_count": 276,
   "outputs": [
    {
     "name": "stdout",
     "output_type": "stream",
     "text": [
      "              precision    recall  f1-score   support\n",
      "\n",
      "    Saudável       0.94      1.00      0.97       707\n",
      "Não Saudável       0.67      0.04      0.08        46\n",
      "\n",
      "    accuracy                           0.94       753\n",
      "   macro avg       0.80      0.52      0.53       753\n",
      "weighted avg       0.92      0.94      0.91       753\n",
      "\n"
     ]
    }
   ],
   "source": [
    "from sklearn.ensemble import RandomForestClassifier\n",
    "rf = RandomForestClassifier()\n",
    "rf.fit(X_train, y_train)\n",
    "y_pred = rf.predict(X_test)\n",
    "print(classification_report(y_test, y_pred, target_names=['Saudável', 'Não Saudável']))"
   ],
   "metadata": {
    "collapsed": false
   }
  }
 ],
 "metadata": {
  "kernelspec": {
   "display_name": "Python 3",
   "language": "python",
   "name": "python3"
  },
  "language_info": {
   "codemirror_mode": {
    "name": "ipython",
    "version": 2
   },
   "file_extension": ".py",
   "mimetype": "text/x-python",
   "name": "python",
   "nbconvert_exporter": "python",
   "pygments_lexer": "ipython2",
   "version": "2.7.6"
  }
 },
 "nbformat": 4,
 "nbformat_minor": 0
}
