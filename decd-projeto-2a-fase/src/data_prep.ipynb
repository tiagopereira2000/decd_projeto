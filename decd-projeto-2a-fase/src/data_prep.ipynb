{
 "cells": [
  {
   "cell_type": "markdown",
   "source": [],
   "metadata": {
    "collapsed": false
   }
  },
  {
   "cell_type": "code",
   "execution_count": 12,
   "metadata": {
    "collapsed": true,
    "ExecuteTime": {
     "end_time": "2023-05-19T18:10:39.448176200Z",
     "start_time": "2023-05-19T18:09:45.641938Z"
    }
   },
   "outputs": [
    {
     "data": {
      "text/plain": "   UTE_ID  CodCEFP CodMedidaOrcam   \n0     107      202        D112218  \\\n1     112      310        D112225   \n2     186      401        D112225   \n3     276      404        D113202   \n4     286      314        D112218   \n\n                         Descritivo CodMedidaOrcam Sexo DataNascimento   \n0                                 Formação Modular    F     1971-08-25  \\\n1  Vida Ativa- Emprego Qualificado - Gestão Direta    M     1956-07-15   \n2  Vida Ativa- Emprego Qualificado - Gestão Direta    F     1966-04-28   \n3       Cursos de Educação e Formação para Adultos    F     1976-10-10   \n4                                 Formação Modular    F     1969-04-10   \n\n   IdadeEmAnos  Categoria CodHabilitacao Habilitacao  ... Mes9_Tipo Mes10   \n0           47          2             06      6 Anos  ...       TCO     1  \\\n1           62          2             06      6 Anos  ...       NaN     0   \n2           52          2             12     12 Anos  ...        TI     1   \n3           42          2             12     12 Anos  ...       TCO     1   \n4           49          3             09      9 Anos  ...       NaN     0   \n\n  Mes10_Remuneracao Mes10_Tipo  Mes11 Mes11_Remuneracao Mes11_Tipo Mes12   \n0             658.0        TCO      1             658.0        TCO     1  \\\n1               NaN        NaN      0               NaN        NaN     0   \n2             418.0         TI      1             418.0         TI     1   \n3             600.0        TCO      0               NaN        NaN     0   \n4               NaN        NaN      0               NaN        NaN     0   \n\n  Mes12_Remuneracao  Mes12_Tipo  \n0             658.0         TCO  \n1               NaN         NaN  \n2             418.0          TI  \n3               NaN         NaN  \n4               NaN         NaN  \n\n[5 rows x 63 columns]",
      "text/html": "<div>\n<style scoped>\n    .dataframe tbody tr th:only-of-type {\n        vertical-align: middle;\n    }\n\n    .dataframe tbody tr th {\n        vertical-align: top;\n    }\n\n    .dataframe thead th {\n        text-align: right;\n    }\n</style>\n<table border=\"1\" class=\"dataframe\">\n  <thead>\n    <tr style=\"text-align: right;\">\n      <th></th>\n      <th>UTE_ID</th>\n      <th>CodCEFP</th>\n      <th>CodMedidaOrcam</th>\n      <th>Descritivo CodMedidaOrcam</th>\n      <th>Sexo</th>\n      <th>DataNascimento</th>\n      <th>IdadeEmAnos</th>\n      <th>Categoria</th>\n      <th>CodHabilitacao</th>\n      <th>Habilitacao</th>\n      <th>...</th>\n      <th>Mes9_Tipo</th>\n      <th>Mes10</th>\n      <th>Mes10_Remuneracao</th>\n      <th>Mes10_Tipo</th>\n      <th>Mes11</th>\n      <th>Mes11_Remuneracao</th>\n      <th>Mes11_Tipo</th>\n      <th>Mes12</th>\n      <th>Mes12_Remuneracao</th>\n      <th>Mes12_Tipo</th>\n    </tr>\n  </thead>\n  <tbody>\n    <tr>\n      <th>0</th>\n      <td>107</td>\n      <td>202</td>\n      <td>D112218</td>\n      <td>Formação Modular</td>\n      <td>F</td>\n      <td>1971-08-25</td>\n      <td>47</td>\n      <td>2</td>\n      <td>06</td>\n      <td>6 Anos</td>\n      <td>...</td>\n      <td>TCO</td>\n      <td>1</td>\n      <td>658.0</td>\n      <td>TCO</td>\n      <td>1</td>\n      <td>658.0</td>\n      <td>TCO</td>\n      <td>1</td>\n      <td>658.0</td>\n      <td>TCO</td>\n    </tr>\n    <tr>\n      <th>1</th>\n      <td>112</td>\n      <td>310</td>\n      <td>D112225</td>\n      <td>Vida Ativa- Emprego Qualificado - Gestão Direta</td>\n      <td>M</td>\n      <td>1956-07-15</td>\n      <td>62</td>\n      <td>2</td>\n      <td>06</td>\n      <td>6 Anos</td>\n      <td>...</td>\n      <td>NaN</td>\n      <td>0</td>\n      <td>NaN</td>\n      <td>NaN</td>\n      <td>0</td>\n      <td>NaN</td>\n      <td>NaN</td>\n      <td>0</td>\n      <td>NaN</td>\n      <td>NaN</td>\n    </tr>\n    <tr>\n      <th>2</th>\n      <td>186</td>\n      <td>401</td>\n      <td>D112225</td>\n      <td>Vida Ativa- Emprego Qualificado - Gestão Direta</td>\n      <td>F</td>\n      <td>1966-04-28</td>\n      <td>52</td>\n      <td>2</td>\n      <td>12</td>\n      <td>12 Anos</td>\n      <td>...</td>\n      <td>TI</td>\n      <td>1</td>\n      <td>418.0</td>\n      <td>TI</td>\n      <td>1</td>\n      <td>418.0</td>\n      <td>TI</td>\n      <td>1</td>\n      <td>418.0</td>\n      <td>TI</td>\n    </tr>\n    <tr>\n      <th>3</th>\n      <td>276</td>\n      <td>404</td>\n      <td>D113202</td>\n      <td>Cursos de Educação e Formação para Adultos</td>\n      <td>F</td>\n      <td>1976-10-10</td>\n      <td>42</td>\n      <td>2</td>\n      <td>12</td>\n      <td>12 Anos</td>\n      <td>...</td>\n      <td>TCO</td>\n      <td>1</td>\n      <td>600.0</td>\n      <td>TCO</td>\n      <td>0</td>\n      <td>NaN</td>\n      <td>NaN</td>\n      <td>0</td>\n      <td>NaN</td>\n      <td>NaN</td>\n    </tr>\n    <tr>\n      <th>4</th>\n      <td>286</td>\n      <td>314</td>\n      <td>D112218</td>\n      <td>Formação Modular</td>\n      <td>F</td>\n      <td>1969-04-10</td>\n      <td>49</td>\n      <td>3</td>\n      <td>09</td>\n      <td>9 Anos</td>\n      <td>...</td>\n      <td>NaN</td>\n      <td>0</td>\n      <td>NaN</td>\n      <td>NaN</td>\n      <td>0</td>\n      <td>NaN</td>\n      <td>NaN</td>\n      <td>0</td>\n      <td>NaN</td>\n      <td>NaN</td>\n    </tr>\n  </tbody>\n</table>\n<p>5 rows × 63 columns</p>\n</div>"
     },
     "execution_count": 12,
     "metadata": {},
     "output_type": "execute_result"
    }
   ],
   "source": [
    "import numpy as np\n",
    "import pandas as pd\n",
    "import openpyxl\n",
    "\n",
    "formandos_terminados = pd.read_excel(\"Ficheiros2022/Formandos_Terminados2018.xlsx\")\n",
    "formandos_terminados.head()\n"
   ]
  },
  {
   "cell_type": "code",
   "execution_count": 13,
   "outputs": [
    {
     "data": {
      "text/plain": "         UTE_ID Sexo  IdadeEmAnos  Categoria CodHabilitacao  CodDeficiencia   \n101289  6823660    M           19          2             09               0  \\\n101290  6823661    M           18          2             09               0   \n101291  6828403    M           21          2             09               0   \n101292  6828422    M           19          2             09               0   \n101293  6831598    F           64          3             04               0   \n\n        CodMotivoSaida  HorasForm  AreaFormacao NivelFormacaoAccao  ... Mes3   \n101289              92        NaN           523                  4  ...    1  \\\n101290              92        NaN           523                  4  ...    1   \n101291              92        NaN           523                  4  ...    1   \n101292              92        NaN           523                  4  ...    1   \n101293              91       25.0           762                  2  ...    1   \n\n        Mes4  Mes5  Mes6  Mes7  Mes8  Mes9  Mes10  Mes11  Mes12  \n101289     1     1     1     1     1     0      0      0      0  \n101290     1     1     1     1     0     0      0      0      0  \n101291     1     1     1     1     1     0      0      0      0  \n101292     1     1     1     1     1     0      0      0      0  \n101293     1     1     1     1     1     0      0      0      0  \n\n[5 rows x 23 columns]",
      "text/html": "<div>\n<style scoped>\n    .dataframe tbody tr th:only-of-type {\n        vertical-align: middle;\n    }\n\n    .dataframe tbody tr th {\n        vertical-align: top;\n    }\n\n    .dataframe thead th {\n        text-align: right;\n    }\n</style>\n<table border=\"1\" class=\"dataframe\">\n  <thead>\n    <tr style=\"text-align: right;\">\n      <th></th>\n      <th>UTE_ID</th>\n      <th>Sexo</th>\n      <th>IdadeEmAnos</th>\n      <th>Categoria</th>\n      <th>CodHabilitacao</th>\n      <th>CodDeficiencia</th>\n      <th>CodMotivoSaida</th>\n      <th>HorasForm</th>\n      <th>AreaFormacao</th>\n      <th>NivelFormacaoAccao</th>\n      <th>...</th>\n      <th>Mes3</th>\n      <th>Mes4</th>\n      <th>Mes5</th>\n      <th>Mes6</th>\n      <th>Mes7</th>\n      <th>Mes8</th>\n      <th>Mes9</th>\n      <th>Mes10</th>\n      <th>Mes11</th>\n      <th>Mes12</th>\n    </tr>\n  </thead>\n  <tbody>\n    <tr>\n      <th>101289</th>\n      <td>6823660</td>\n      <td>M</td>\n      <td>19</td>\n      <td>2</td>\n      <td>09</td>\n      <td>0</td>\n      <td>92</td>\n      <td>NaN</td>\n      <td>523</td>\n      <td>4</td>\n      <td>...</td>\n      <td>1</td>\n      <td>1</td>\n      <td>1</td>\n      <td>1</td>\n      <td>1</td>\n      <td>1</td>\n      <td>0</td>\n      <td>0</td>\n      <td>0</td>\n      <td>0</td>\n    </tr>\n    <tr>\n      <th>101290</th>\n      <td>6823661</td>\n      <td>M</td>\n      <td>18</td>\n      <td>2</td>\n      <td>09</td>\n      <td>0</td>\n      <td>92</td>\n      <td>NaN</td>\n      <td>523</td>\n      <td>4</td>\n      <td>...</td>\n      <td>1</td>\n      <td>1</td>\n      <td>1</td>\n      <td>1</td>\n      <td>1</td>\n      <td>0</td>\n      <td>0</td>\n      <td>0</td>\n      <td>0</td>\n      <td>0</td>\n    </tr>\n    <tr>\n      <th>101291</th>\n      <td>6828403</td>\n      <td>M</td>\n      <td>21</td>\n      <td>2</td>\n      <td>09</td>\n      <td>0</td>\n      <td>92</td>\n      <td>NaN</td>\n      <td>523</td>\n      <td>4</td>\n      <td>...</td>\n      <td>1</td>\n      <td>1</td>\n      <td>1</td>\n      <td>1</td>\n      <td>1</td>\n      <td>1</td>\n      <td>0</td>\n      <td>0</td>\n      <td>0</td>\n      <td>0</td>\n    </tr>\n    <tr>\n      <th>101292</th>\n      <td>6828422</td>\n      <td>M</td>\n      <td>19</td>\n      <td>2</td>\n      <td>09</td>\n      <td>0</td>\n      <td>92</td>\n      <td>NaN</td>\n      <td>523</td>\n      <td>4</td>\n      <td>...</td>\n      <td>1</td>\n      <td>1</td>\n      <td>1</td>\n      <td>1</td>\n      <td>1</td>\n      <td>1</td>\n      <td>0</td>\n      <td>0</td>\n      <td>0</td>\n      <td>0</td>\n    </tr>\n    <tr>\n      <th>101293</th>\n      <td>6831598</td>\n      <td>F</td>\n      <td>64</td>\n      <td>3</td>\n      <td>04</td>\n      <td>0</td>\n      <td>91</td>\n      <td>25.0</td>\n      <td>762</td>\n      <td>2</td>\n      <td>...</td>\n      <td>1</td>\n      <td>1</td>\n      <td>1</td>\n      <td>1</td>\n      <td>1</td>\n      <td>1</td>\n      <td>0</td>\n      <td>0</td>\n      <td>0</td>\n      <td>0</td>\n    </tr>\n  </tbody>\n</table>\n<p>5 rows × 23 columns</p>\n</div>"
     },
     "execution_count": 13,
     "metadata": {},
     "output_type": "execute_result"
    }
   ],
   "source": [
    "df = formandos_terminados.iloc[:,[0,4,6,7,8,14,19,21,22,24,25,27,30,33,36,39,42,45,48,51,54,57,60]]\n",
    "df.tail()\n"
   ],
   "metadata": {
    "collapsed": false,
    "ExecuteTime": {
     "end_time": "2023-05-19T18:10:39.595611100Z",
     "start_time": "2023-05-19T18:10:39.453163Z"
    }
   }
  },
  {
   "cell_type": "markdown",
   "source": [
    "## Motivo de saída deve ser válido\n",
    "é necessário recolher os dados dos utentes que acabaram a formação"
   ],
   "metadata": {
    "collapsed": false
   }
  },
  {
   "cell_type": "code",
   "execution_count": 20,
   "outputs": [
    {
     "data": {
      "text/plain": "UTE_ID                    int64\nSexo                     object\nIdadeEmAnos               int64\nCategoria                 int64\nCodHabilitacao           object\nCodDeficiencia            int64\nCodMotivoSaida            int64\nHorasForm               float64\nAreaFormacao              int64\nNivelFormacaoAccao       object\nCodSaidaProfissional     object\nMes1                      int64\nMes2                      int64\nMes3                      int64\nMes4                      int64\nMes5                      int64\nMes6                      int64\nMes7                      int64\nMes8                      int64\nMes9                      int64\nMes10                     int64\nMes11                     int64\nMes12                     int64\ndtype: object"
     },
     "execution_count": 20,
     "metadata": {},
     "output_type": "execute_result"
    }
   ],
   "source": [
    "df = df.loc[df['CodMotivoSaida'] == 91]\n",
    "df.dropna(inplace=True)\n",
    "df.dtypes"
   ],
   "metadata": {
    "collapsed": false,
    "ExecuteTime": {
     "end_time": "2023-05-19T18:16:09.834078800Z",
     "start_time": "2023-05-19T18:16:09.772126900Z"
    }
   }
  },
  {
   "cell_type": "markdown",
   "source": [
    "## Categorizar coluna 'Sexo'"
   ],
   "metadata": {
    "collapsed": false
   }
  },
  {
   "cell_type": "code",
   "execution_count": 35,
   "outputs": [
    {
     "data": {
      "text/plain": "         UTE_ID Sexo  IdadeEmAnos  Categoria CodHabilitacao  CodDeficiencia   \n101274  6819653    F           30          3             12               0  \\\n101275  6820294    F           50          3             09               0   \n101276  6821891    F           58          3             09               0   \n101278  6822296    F           51          3             12               0   \n101293  6831598    F           64          3             04               0   \n\n        CodMotivoSaida  HorasForm  AreaFormacao NivelFormacaoAccao  ... Mes3   \n101274              91       25.0           761                  2  ...    1  \\\n101275              91       25.0           761                  2  ...    1   \n101276              91       50.0           346                  2  ...    0   \n101278              91       21.0           225                  4  ...    0   \n101293              91       25.0           762                  2  ...    1   \n\n        Mes4  Mes5  Mes6  Mes7  Mes8  Mes9  Mes10  Mes11  Mes12  \n101274     1     1     1     1     1     0      0      0      0  \n101275     1     1     1     1     1     0      0      0      0  \n101276     0     0     0     0     0     0      0      0      0  \n101278     0     0     0     0     0     0      0      0      0  \n101293     1     1     1     1     1     0      0      0      0  \n\n[5 rows x 23 columns]",
      "text/html": "<div>\n<style scoped>\n    .dataframe tbody tr th:only-of-type {\n        vertical-align: middle;\n    }\n\n    .dataframe tbody tr th {\n        vertical-align: top;\n    }\n\n    .dataframe thead th {\n        text-align: right;\n    }\n</style>\n<table border=\"1\" class=\"dataframe\">\n  <thead>\n    <tr style=\"text-align: right;\">\n      <th></th>\n      <th>UTE_ID</th>\n      <th>Sexo</th>\n      <th>IdadeEmAnos</th>\n      <th>Categoria</th>\n      <th>CodHabilitacao</th>\n      <th>CodDeficiencia</th>\n      <th>CodMotivoSaida</th>\n      <th>HorasForm</th>\n      <th>AreaFormacao</th>\n      <th>NivelFormacaoAccao</th>\n      <th>...</th>\n      <th>Mes3</th>\n      <th>Mes4</th>\n      <th>Mes5</th>\n      <th>Mes6</th>\n      <th>Mes7</th>\n      <th>Mes8</th>\n      <th>Mes9</th>\n      <th>Mes10</th>\n      <th>Mes11</th>\n      <th>Mes12</th>\n    </tr>\n  </thead>\n  <tbody>\n    <tr>\n      <th>101274</th>\n      <td>6819653</td>\n      <td>F</td>\n      <td>30</td>\n      <td>3</td>\n      <td>12</td>\n      <td>0</td>\n      <td>91</td>\n      <td>25.0</td>\n      <td>761</td>\n      <td>2</td>\n      <td>...</td>\n      <td>1</td>\n      <td>1</td>\n      <td>1</td>\n      <td>1</td>\n      <td>1</td>\n      <td>1</td>\n      <td>0</td>\n      <td>0</td>\n      <td>0</td>\n      <td>0</td>\n    </tr>\n    <tr>\n      <th>101275</th>\n      <td>6820294</td>\n      <td>F</td>\n      <td>50</td>\n      <td>3</td>\n      <td>09</td>\n      <td>0</td>\n      <td>91</td>\n      <td>25.0</td>\n      <td>761</td>\n      <td>2</td>\n      <td>...</td>\n      <td>1</td>\n      <td>1</td>\n      <td>1</td>\n      <td>1</td>\n      <td>1</td>\n      <td>1</td>\n      <td>0</td>\n      <td>0</td>\n      <td>0</td>\n      <td>0</td>\n    </tr>\n    <tr>\n      <th>101276</th>\n      <td>6821891</td>\n      <td>F</td>\n      <td>58</td>\n      <td>3</td>\n      <td>09</td>\n      <td>0</td>\n      <td>91</td>\n      <td>50.0</td>\n      <td>346</td>\n      <td>2</td>\n      <td>...</td>\n      <td>0</td>\n      <td>0</td>\n      <td>0</td>\n      <td>0</td>\n      <td>0</td>\n      <td>0</td>\n      <td>0</td>\n      <td>0</td>\n      <td>0</td>\n      <td>0</td>\n    </tr>\n    <tr>\n      <th>101278</th>\n      <td>6822296</td>\n      <td>F</td>\n      <td>51</td>\n      <td>3</td>\n      <td>12</td>\n      <td>0</td>\n      <td>91</td>\n      <td>21.0</td>\n      <td>225</td>\n      <td>4</td>\n      <td>...</td>\n      <td>0</td>\n      <td>0</td>\n      <td>0</td>\n      <td>0</td>\n      <td>0</td>\n      <td>0</td>\n      <td>0</td>\n      <td>0</td>\n      <td>0</td>\n      <td>0</td>\n    </tr>\n    <tr>\n      <th>101293</th>\n      <td>6831598</td>\n      <td>F</td>\n      <td>64</td>\n      <td>3</td>\n      <td>04</td>\n      <td>0</td>\n      <td>91</td>\n      <td>25.0</td>\n      <td>762</td>\n      <td>2</td>\n      <td>...</td>\n      <td>1</td>\n      <td>1</td>\n      <td>1</td>\n      <td>1</td>\n      <td>1</td>\n      <td>1</td>\n      <td>0</td>\n      <td>0</td>\n      <td>0</td>\n      <td>0</td>\n    </tr>\n  </tbody>\n</table>\n<p>5 rows × 23 columns</p>\n</div>"
     },
     "execution_count": 35,
     "metadata": {},
     "output_type": "execute_result"
    }
   ],
   "source": [
    "df.Sexo = df.Sexo.astype('category')\n",
    "df = pd.DataFrame(df)\n",
    "df.tail()"
   ],
   "metadata": {
    "collapsed": false,
    "ExecuteTime": {
     "end_time": "2023-05-19T18:22:23.000348700Z",
     "start_time": "2023-05-19T18:22:22.983812Z"
    }
   }
  },
  {
   "cell_type": "markdown",
   "source": [
    "## Factorização das colunas passadas como categoria - Sexo [F,M] --> [0,1]"
   ],
   "metadata": {
    "collapsed": false
   }
  },
  {
   "cell_type": "code",
   "execution_count": 38,
   "outputs": [],
   "source": [
    "cat_columns = df.select_dtypes(['category']).columns\n",
    "df[cat_columns] = df[cat_columns].apply(lambda x: pd.factorize(x)[0])"
   ],
   "metadata": {
    "collapsed": false,
    "ExecuteTime": {
     "end_time": "2023-05-19T18:24:02.513900800Z",
     "start_time": "2023-05-19T18:24:02.498915200Z"
    }
   }
  },
  {
   "cell_type": "code",
   "execution_count": 39,
   "outputs": [
    {
     "data": {
      "text/plain": "         UTE_ID  Sexo  IdadeEmAnos  Categoria CodHabilitacao  CodDeficiencia   \n101274  6819653     0           30          3             12               0  \\\n101275  6820294     0           50          3             09               0   \n101276  6821891     0           58          3             09               0   \n101278  6822296     0           51          3             12               0   \n101293  6831598     0           64          3             04               0   \n\n        CodMotivoSaida  HorasForm  AreaFormacao NivelFormacaoAccao  ... Mes3   \n101274              91       25.0           761                  2  ...    1  \\\n101275              91       25.0           761                  2  ...    1   \n101276              91       50.0           346                  2  ...    0   \n101278              91       21.0           225                  4  ...    0   \n101293              91       25.0           762                  2  ...    1   \n\n        Mes4  Mes5  Mes6  Mes7  Mes8  Mes9  Mes10  Mes11  Mes12  \n101274     1     1     1     1     1     0      0      0      0  \n101275     1     1     1     1     1     0      0      0      0  \n101276     0     0     0     0     0     0      0      0      0  \n101278     0     0     0     0     0     0      0      0      0  \n101293     1     1     1     1     1     0      0      0      0  \n\n[5 rows x 23 columns]",
      "text/html": "<div>\n<style scoped>\n    .dataframe tbody tr th:only-of-type {\n        vertical-align: middle;\n    }\n\n    .dataframe tbody tr th {\n        vertical-align: top;\n    }\n\n    .dataframe thead th {\n        text-align: right;\n    }\n</style>\n<table border=\"1\" class=\"dataframe\">\n  <thead>\n    <tr style=\"text-align: right;\">\n      <th></th>\n      <th>UTE_ID</th>\n      <th>Sexo</th>\n      <th>IdadeEmAnos</th>\n      <th>Categoria</th>\n      <th>CodHabilitacao</th>\n      <th>CodDeficiencia</th>\n      <th>CodMotivoSaida</th>\n      <th>HorasForm</th>\n      <th>AreaFormacao</th>\n      <th>NivelFormacaoAccao</th>\n      <th>...</th>\n      <th>Mes3</th>\n      <th>Mes4</th>\n      <th>Mes5</th>\n      <th>Mes6</th>\n      <th>Mes7</th>\n      <th>Mes8</th>\n      <th>Mes9</th>\n      <th>Mes10</th>\n      <th>Mes11</th>\n      <th>Mes12</th>\n    </tr>\n  </thead>\n  <tbody>\n    <tr>\n      <th>101274</th>\n      <td>6819653</td>\n      <td>0</td>\n      <td>30</td>\n      <td>3</td>\n      <td>12</td>\n      <td>0</td>\n      <td>91</td>\n      <td>25.0</td>\n      <td>761</td>\n      <td>2</td>\n      <td>...</td>\n      <td>1</td>\n      <td>1</td>\n      <td>1</td>\n      <td>1</td>\n      <td>1</td>\n      <td>1</td>\n      <td>0</td>\n      <td>0</td>\n      <td>0</td>\n      <td>0</td>\n    </tr>\n    <tr>\n      <th>101275</th>\n      <td>6820294</td>\n      <td>0</td>\n      <td>50</td>\n      <td>3</td>\n      <td>09</td>\n      <td>0</td>\n      <td>91</td>\n      <td>25.0</td>\n      <td>761</td>\n      <td>2</td>\n      <td>...</td>\n      <td>1</td>\n      <td>1</td>\n      <td>1</td>\n      <td>1</td>\n      <td>1</td>\n      <td>1</td>\n      <td>0</td>\n      <td>0</td>\n      <td>0</td>\n      <td>0</td>\n    </tr>\n    <tr>\n      <th>101276</th>\n      <td>6821891</td>\n      <td>0</td>\n      <td>58</td>\n      <td>3</td>\n      <td>09</td>\n      <td>0</td>\n      <td>91</td>\n      <td>50.0</td>\n      <td>346</td>\n      <td>2</td>\n      <td>...</td>\n      <td>0</td>\n      <td>0</td>\n      <td>0</td>\n      <td>0</td>\n      <td>0</td>\n      <td>0</td>\n      <td>0</td>\n      <td>0</td>\n      <td>0</td>\n      <td>0</td>\n    </tr>\n    <tr>\n      <th>101278</th>\n      <td>6822296</td>\n      <td>0</td>\n      <td>51</td>\n      <td>3</td>\n      <td>12</td>\n      <td>0</td>\n      <td>91</td>\n      <td>21.0</td>\n      <td>225</td>\n      <td>4</td>\n      <td>...</td>\n      <td>0</td>\n      <td>0</td>\n      <td>0</td>\n      <td>0</td>\n      <td>0</td>\n      <td>0</td>\n      <td>0</td>\n      <td>0</td>\n      <td>0</td>\n      <td>0</td>\n    </tr>\n    <tr>\n      <th>101293</th>\n      <td>6831598</td>\n      <td>0</td>\n      <td>64</td>\n      <td>3</td>\n      <td>04</td>\n      <td>0</td>\n      <td>91</td>\n      <td>25.0</td>\n      <td>762</td>\n      <td>2</td>\n      <td>...</td>\n      <td>1</td>\n      <td>1</td>\n      <td>1</td>\n      <td>1</td>\n      <td>1</td>\n      <td>1</td>\n      <td>0</td>\n      <td>0</td>\n      <td>0</td>\n      <td>0</td>\n    </tr>\n  </tbody>\n</table>\n<p>5 rows × 23 columns</p>\n</div>"
     },
     "execution_count": 39,
     "metadata": {},
     "output_type": "execute_result"
    }
   ],
   "source": [
    "df.tail()"
   ],
   "metadata": {
    "collapsed": false,
    "ExecuteTime": {
     "end_time": "2023-05-19T18:24:07.488965500Z",
     "start_time": "2023-05-19T18:24:07.433114300Z"
    }
   }
  }
 ],
 "metadata": {
  "kernelspec": {
   "display_name": "Python 3",
   "language": "python",
   "name": "python3"
  },
  "language_info": {
   "codemirror_mode": {
    "name": "ipython",
    "version": 2
   },
   "file_extension": ".py",
   "mimetype": "text/x-python",
   "name": "python",
   "nbconvert_exporter": "python",
   "pygments_lexer": "ipython2",
   "version": "2.7.6"
  }
 },
 "nbformat": 4,
 "nbformat_minor": 0
}
