{
 "cells": [
  {
   "cell_type": "markdown",
   "source": [],
   "metadata": {
    "collapsed": false
   }
  },
  {
   "cell_type": "code",
   "execution_count": 4,
   "metadata": {
    "collapsed": true,
    "ExecuteTime": {
     "end_time": "2023-05-16T20:26:55.843703300Z",
     "start_time": "2023-05-16T20:25:41.225573700Z"
    }
   },
   "outputs": [
    {
     "data": {
      "text/plain": "   UTE_ID  CodCEFP CodMedidaOrcam   \n0     107      202        D112218  \\\n1     112      310        D112225   \n2     186      401        D112225   \n3     276      404        D113202   \n4     286      314        D112218   \n\n                         Descritivo CodMedidaOrcam Sexo DataNascimento   \n0                                 Formação Modular    F     1971-08-25  \\\n1  Vida Ativa- Emprego Qualificado - Gestão Direta    M     1956-07-15   \n2  Vida Ativa- Emprego Qualificado - Gestão Direta    F     1966-04-28   \n3       Cursos de Educação e Formação para Adultos    F     1976-10-10   \n4                                 Formação Modular    F     1969-04-10   \n\n   IdadeEmAnos  Categoria CodHabilitacao Habilitacao  ... Mes9_Tipo Mes10   \n0           47          2             06      6 Anos  ...       TCO     1  \\\n1           62          2             06      6 Anos  ...       NaN     0   \n2           52          2             12     12 Anos  ...        TI     1   \n3           42          2             12     12 Anos  ...       TCO     1   \n4           49          3             09      9 Anos  ...       NaN     0   \n\n  Mes10_Remuneracao Mes10_Tipo  Mes11 Mes11_Remuneracao Mes11_Tipo Mes12   \n0             658.0        TCO      1             658.0        TCO     1  \\\n1               NaN        NaN      0               NaN        NaN     0   \n2             418.0         TI      1             418.0         TI     1   \n3             600.0        TCO      0               NaN        NaN     0   \n4               NaN        NaN      0               NaN        NaN     0   \n\n  Mes12_Remuneracao  Mes12_Tipo  \n0             658.0         TCO  \n1               NaN         NaN  \n2             418.0          TI  \n3               NaN         NaN  \n4               NaN         NaN  \n\n[5 rows x 63 columns]",
      "text/html": "<div>\n<style scoped>\n    .dataframe tbody tr th:only-of-type {\n        vertical-align: middle;\n    }\n\n    .dataframe tbody tr th {\n        vertical-align: top;\n    }\n\n    .dataframe thead th {\n        text-align: right;\n    }\n</style>\n<table border=\"1\" class=\"dataframe\">\n  <thead>\n    <tr style=\"text-align: right;\">\n      <th></th>\n      <th>UTE_ID</th>\n      <th>CodCEFP</th>\n      <th>CodMedidaOrcam</th>\n      <th>Descritivo CodMedidaOrcam</th>\n      <th>Sexo</th>\n      <th>DataNascimento</th>\n      <th>IdadeEmAnos</th>\n      <th>Categoria</th>\n      <th>CodHabilitacao</th>\n      <th>Habilitacao</th>\n      <th>...</th>\n      <th>Mes9_Tipo</th>\n      <th>Mes10</th>\n      <th>Mes10_Remuneracao</th>\n      <th>Mes10_Tipo</th>\n      <th>Mes11</th>\n      <th>Mes11_Remuneracao</th>\n      <th>Mes11_Tipo</th>\n      <th>Mes12</th>\n      <th>Mes12_Remuneracao</th>\n      <th>Mes12_Tipo</th>\n    </tr>\n  </thead>\n  <tbody>\n    <tr>\n      <th>0</th>\n      <td>107</td>\n      <td>202</td>\n      <td>D112218</td>\n      <td>Formação Modular</td>\n      <td>F</td>\n      <td>1971-08-25</td>\n      <td>47</td>\n      <td>2</td>\n      <td>06</td>\n      <td>6 Anos</td>\n      <td>...</td>\n      <td>TCO</td>\n      <td>1</td>\n      <td>658.0</td>\n      <td>TCO</td>\n      <td>1</td>\n      <td>658.0</td>\n      <td>TCO</td>\n      <td>1</td>\n      <td>658.0</td>\n      <td>TCO</td>\n    </tr>\n    <tr>\n      <th>1</th>\n      <td>112</td>\n      <td>310</td>\n      <td>D112225</td>\n      <td>Vida Ativa- Emprego Qualificado - Gestão Direta</td>\n      <td>M</td>\n      <td>1956-07-15</td>\n      <td>62</td>\n      <td>2</td>\n      <td>06</td>\n      <td>6 Anos</td>\n      <td>...</td>\n      <td>NaN</td>\n      <td>0</td>\n      <td>NaN</td>\n      <td>NaN</td>\n      <td>0</td>\n      <td>NaN</td>\n      <td>NaN</td>\n      <td>0</td>\n      <td>NaN</td>\n      <td>NaN</td>\n    </tr>\n    <tr>\n      <th>2</th>\n      <td>186</td>\n      <td>401</td>\n      <td>D112225</td>\n      <td>Vida Ativa- Emprego Qualificado - Gestão Direta</td>\n      <td>F</td>\n      <td>1966-04-28</td>\n      <td>52</td>\n      <td>2</td>\n      <td>12</td>\n      <td>12 Anos</td>\n      <td>...</td>\n      <td>TI</td>\n      <td>1</td>\n      <td>418.0</td>\n      <td>TI</td>\n      <td>1</td>\n      <td>418.0</td>\n      <td>TI</td>\n      <td>1</td>\n      <td>418.0</td>\n      <td>TI</td>\n    </tr>\n    <tr>\n      <th>3</th>\n      <td>276</td>\n      <td>404</td>\n      <td>D113202</td>\n      <td>Cursos de Educação e Formação para Adultos</td>\n      <td>F</td>\n      <td>1976-10-10</td>\n      <td>42</td>\n      <td>2</td>\n      <td>12</td>\n      <td>12 Anos</td>\n      <td>...</td>\n      <td>TCO</td>\n      <td>1</td>\n      <td>600.0</td>\n      <td>TCO</td>\n      <td>0</td>\n      <td>NaN</td>\n      <td>NaN</td>\n      <td>0</td>\n      <td>NaN</td>\n      <td>NaN</td>\n    </tr>\n    <tr>\n      <th>4</th>\n      <td>286</td>\n      <td>314</td>\n      <td>D112218</td>\n      <td>Formação Modular</td>\n      <td>F</td>\n      <td>1969-04-10</td>\n      <td>49</td>\n      <td>3</td>\n      <td>09</td>\n      <td>9 Anos</td>\n      <td>...</td>\n      <td>NaN</td>\n      <td>0</td>\n      <td>NaN</td>\n      <td>NaN</td>\n      <td>0</td>\n      <td>NaN</td>\n      <td>NaN</td>\n      <td>0</td>\n      <td>NaN</td>\n      <td>NaN</td>\n    </tr>\n  </tbody>\n</table>\n<p>5 rows × 63 columns</p>\n</div>"
     },
     "execution_count": 3,
     "metadata": {},
     "output_type": "execute_result"
    },
    {
     "data": {
      "text/plain": "   UTE_ID  CodCEFP CodMedidaOrcam   \n0     107      202        D112218  \\\n1     112      310        D112225   \n2     186      401        D112225   \n3     276      404        D113202   \n4     286      314        D112218   \n\n                         Descritivo CodMedidaOrcam Sexo DataNascimento   \n0                                 Formação Modular    F     1971-08-25  \\\n1  Vida Ativa- Emprego Qualificado - Gestão Direta    M     1956-07-15   \n2  Vida Ativa- Emprego Qualificado - Gestão Direta    F     1966-04-28   \n3       Cursos de Educação e Formação para Adultos    F     1976-10-10   \n4                                 Formação Modular    F     1969-04-10   \n\n   IdadeEmAnos  Categoria CodHabilitacao Habilitacao  ... Mes9_Tipo Mes10   \n0           47          2             06      6 Anos  ...       TCO     1  \\\n1           62          2             06      6 Anos  ...       NaN     0   \n2           52          2             12     12 Anos  ...        TI     1   \n3           42          2             12     12 Anos  ...       TCO     1   \n4           49          3             09      9 Anos  ...       NaN     0   \n\n  Mes10_Remuneracao Mes10_Tipo  Mes11 Mes11_Remuneracao Mes11_Tipo Mes12   \n0             658.0        TCO      1             658.0        TCO     1  \\\n1               NaN        NaN      0               NaN        NaN     0   \n2             418.0         TI      1             418.0         TI     1   \n3             600.0        TCO      0               NaN        NaN     0   \n4               NaN        NaN      0               NaN        NaN     0   \n\n  Mes12_Remuneracao  Mes12_Tipo  \n0             658.0         TCO  \n1               NaN         NaN  \n2             418.0          TI  \n3               NaN         NaN  \n4               NaN         NaN  \n\n[5 rows x 63 columns]",
      "text/html": "<div>\n<style scoped>\n    .dataframe tbody tr th:only-of-type {\n        vertical-align: middle;\n    }\n\n    .dataframe tbody tr th {\n        vertical-align: top;\n    }\n\n    .dataframe thead th {\n        text-align: right;\n    }\n</style>\n<table border=\"1\" class=\"dataframe\">\n  <thead>\n    <tr style=\"text-align: right;\">\n      <th></th>\n      <th>UTE_ID</th>\n      <th>CodCEFP</th>\n      <th>CodMedidaOrcam</th>\n      <th>Descritivo CodMedidaOrcam</th>\n      <th>Sexo</th>\n      <th>DataNascimento</th>\n      <th>IdadeEmAnos</th>\n      <th>Categoria</th>\n      <th>CodHabilitacao</th>\n      <th>Habilitacao</th>\n      <th>...</th>\n      <th>Mes9_Tipo</th>\n      <th>Mes10</th>\n      <th>Mes10_Remuneracao</th>\n      <th>Mes10_Tipo</th>\n      <th>Mes11</th>\n      <th>Mes11_Remuneracao</th>\n      <th>Mes11_Tipo</th>\n      <th>Mes12</th>\n      <th>Mes12_Remuneracao</th>\n      <th>Mes12_Tipo</th>\n    </tr>\n  </thead>\n  <tbody>\n    <tr>\n      <th>0</th>\n      <td>107</td>\n      <td>202</td>\n      <td>D112218</td>\n      <td>Formação Modular</td>\n      <td>F</td>\n      <td>1971-08-25</td>\n      <td>47</td>\n      <td>2</td>\n      <td>06</td>\n      <td>6 Anos</td>\n      <td>...</td>\n      <td>TCO</td>\n      <td>1</td>\n      <td>658.0</td>\n      <td>TCO</td>\n      <td>1</td>\n      <td>658.0</td>\n      <td>TCO</td>\n      <td>1</td>\n      <td>658.0</td>\n      <td>TCO</td>\n    </tr>\n    <tr>\n      <th>1</th>\n      <td>112</td>\n      <td>310</td>\n      <td>D112225</td>\n      <td>Vida Ativa- Emprego Qualificado - Gestão Direta</td>\n      <td>M</td>\n      <td>1956-07-15</td>\n      <td>62</td>\n      <td>2</td>\n      <td>06</td>\n      <td>6 Anos</td>\n      <td>...</td>\n      <td>NaN</td>\n      <td>0</td>\n      <td>NaN</td>\n      <td>NaN</td>\n      <td>0</td>\n      <td>NaN</td>\n      <td>NaN</td>\n      <td>0</td>\n      <td>NaN</td>\n      <td>NaN</td>\n    </tr>\n    <tr>\n      <th>2</th>\n      <td>186</td>\n      <td>401</td>\n      <td>D112225</td>\n      <td>Vida Ativa- Emprego Qualificado - Gestão Direta</td>\n      <td>F</td>\n      <td>1966-04-28</td>\n      <td>52</td>\n      <td>2</td>\n      <td>12</td>\n      <td>12 Anos</td>\n      <td>...</td>\n      <td>TI</td>\n      <td>1</td>\n      <td>418.0</td>\n      <td>TI</td>\n      <td>1</td>\n      <td>418.0</td>\n      <td>TI</td>\n      <td>1</td>\n      <td>418.0</td>\n      <td>TI</td>\n    </tr>\n    <tr>\n      <th>3</th>\n      <td>276</td>\n      <td>404</td>\n      <td>D113202</td>\n      <td>Cursos de Educação e Formação para Adultos</td>\n      <td>F</td>\n      <td>1976-10-10</td>\n      <td>42</td>\n      <td>2</td>\n      <td>12</td>\n      <td>12 Anos</td>\n      <td>...</td>\n      <td>TCO</td>\n      <td>1</td>\n      <td>600.0</td>\n      <td>TCO</td>\n      <td>0</td>\n      <td>NaN</td>\n      <td>NaN</td>\n      <td>0</td>\n      <td>NaN</td>\n      <td>NaN</td>\n    </tr>\n    <tr>\n      <th>4</th>\n      <td>286</td>\n      <td>314</td>\n      <td>D112218</td>\n      <td>Formação Modular</td>\n      <td>F</td>\n      <td>1969-04-10</td>\n      <td>49</td>\n      <td>3</td>\n      <td>09</td>\n      <td>9 Anos</td>\n      <td>...</td>\n      <td>NaN</td>\n      <td>0</td>\n      <td>NaN</td>\n      <td>NaN</td>\n      <td>0</td>\n      <td>NaN</td>\n      <td>NaN</td>\n      <td>0</td>\n      <td>NaN</td>\n      <td>NaN</td>\n    </tr>\n  </tbody>\n</table>\n<p>5 rows × 63 columns</p>\n</div>"
     },
     "execution_count": 4,
     "metadata": {},
     "output_type": "execute_result"
    }
   ],
   "source": [
    "import numpy as np\n",
    "import pandas as pd\n",
    "import openpyxl\n",
    "\n",
    "formandos_terminados = pd.read_excel(\"Ficheiros2022/Formandos_Terminados2018.xlsx\")\n",
    "formandos_terminados.head()\n"
   ]
  },
  {
   "cell_type": "code",
   "execution_count": null,
   "outputs": [],
   "source": [],
   "metadata": {
    "collapsed": false
   }
  }
 ],
 "metadata": {
  "kernelspec": {
   "display_name": "Python 3",
   "language": "python",
   "name": "python3"
  },
  "language_info": {
   "codemirror_mode": {
    "name": "ipython",
    "version": 2
   },
   "file_extension": ".py",
   "mimetype": "text/x-python",
   "name": "python",
   "nbconvert_exporter": "python",
   "pygments_lexer": "ipython2",
   "version": "2.7.6"
  }
 },
 "nbformat": 4,
 "nbformat_minor": 0
}
